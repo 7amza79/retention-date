{
 "cells": [
  {
   "cell_type": "code",
   "execution_count": 0,
   "metadata": {
    "application/vnd.databricks.v1+cell": {
     "cellMetadata": {
      "byteLimit": 2048000,
      "rowLimit": 10000
     },
     "inputWidgets": {},
     "nuid": "f4d00322-c6e4-43d4-8f00-97369cb2f3f0",
     "showTitle": false,
     "title": ""
    }
   },
   "outputs": [
    {
     "output_type": "stream",
     "name": "stdout",
     "output_type": "stream",
     "text": [
      "           versions\n0  xxx@230222133429\n1  xxx@230226141533\n2  xxx@230227214032\n3  xxx@230128210403\n4  xxx@230302084430\n5  xxx@230303193458\n6  xxx@230304193812\n7  xxx@220305193556\n8  xxx@230306194056\n9  xxx@220307200332\n"
     ]
    },
    {
     "output_type": "display_data",
     "data": {
      "text/html": [
       "<style scoped>\n",
       "  .ansiout {\n",
       "    display: block;\n",
       "    unicode-bidi: embed;\n",
       "    white-space: pre-wrap;\n",
       "    word-wrap: break-word;\n",
       "    word-break: break-all;\n",
       "    font-family: \"Source Code Pro\", \"Menlo\", monospace;;\n",
       "    font-size: 13px;\n",
       "    color: #555;\n",
       "    margin-left: 4px;\n",
       "    line-height: 19px;\n",
       "  }\n",
       "</style>"
      ]
     },
     "metadata": {
      "application/vnd.databricks.v1+output": {
       "arguments": {},
       "data": "",
       "errorSummary": "",
       "errorTraceType": null,
       "metadata": {},
       "type": "ipynbError"
      }
     },
     "output_type": "display_data"
    }
   ],
   "source": [
    "import pandas as pd\n",
    "\n",
    "\n",
    "\n",
    "list_d = [\n",
    "    'xxx@230222133429',\n",
    "    'xxx@230226141533',\n",
    "    'xxx@230227214032',\n",
    "    'xxx@230128210403',\n",
    "    'xxx@230302084430',\n",
    "    'xxx@230303193458',\n",
    "    'xxx@230304193812',\n",
    "    'xxx@220305193556',\n",
    "    'xxx@230306194056',\n",
    "    'xxx@220307200332']\n",
    "df = pd.DataFrame(list_d, columns=['versions'])\n",
    "print(df.to_string())\n"
   ]
  },
  {
   "cell_type": "code",
   "execution_count": 0,
   "metadata": {
    "application/vnd.databricks.v1+cell": {
     "cellMetadata": {
      "byteLimit": 2048000,
      "rowLimit": 10000
     },
     "inputWidgets": {},
     "nuid": "dc869bc2-2bac-4f5c-8d0a-9cb574ab3688",
     "showTitle": false,
     "title": ""
    }
   },
   "outputs": [
    {
     "output_type": "stream",
     "name": "stdout",
     "output_type": "stream",
     "text": [
      "           versions     timestamp\n0  xxx@230222133429  230222133429\n1  xxx@230226141533  230226141533\n2  xxx@230227214032  230227214032\n3  xxx@230128210403  230128210403\n4  xxx@230302084430  230302084430\n5  xxx@230303193458  230303193458\n6  xxx@230304193812  230304193812\n7  xxx@220305193556  220305193556\n8  xxx@230306194056  230306194056\n9  xxx@220307200332  220307200332\n"
     ]
    },
    {
     "output_type": "display_data",
     "data": {
      "text/html": [
       "<style scoped>\n",
       "  .ansiout {\n",
       "    display: block;\n",
       "    unicode-bidi: embed;\n",
       "    white-space: pre-wrap;\n",
       "    word-wrap: break-word;\n",
       "    word-break: break-all;\n",
       "    font-family: \"Source Code Pro\", \"Menlo\", monospace;;\n",
       "    font-size: 13px;\n",
       "    color: #555;\n",
       "    margin-left: 4px;\n",
       "    line-height: 19px;\n",
       "  }\n",
       "</style>"
      ]
     },
     "metadata": {
      "application/vnd.databricks.v1+output": {
       "arguments": {},
       "data": "",
       "errorSummary": "",
       "errorTraceType": null,
       "metadata": {},
       "type": "ipynbError"
      }
     },
     "output_type": "display_data"
    }
   ],
   "source": [
    "df['timestamp'] = df.versions.str.split(\"@\", expand = True)[1]\n",
    "print(df.to_string())\n"
   ]
  },
  {
   "cell_type": "code",
   "execution_count": 0,
   "metadata": {
    "application/vnd.databricks.v1+cell": {
     "cellMetadata": {
      "byteLimit": 2048000,
      "rowLimit": 10000
     },
     "inputWidgets": {},
     "nuid": "e7cdb7b4-a7cc-483d-8c5b-ad995dd6dcbe",
     "showTitle": false,
     "title": ""
    }
   },
   "outputs": [
    {
     "output_type": "display_data",
     "data": {
      "text/html": [
       "<style scoped>\n",
       "  .ansiout {\n",
       "    display: block;\n",
       "    unicode-bidi: embed;\n",
       "    white-space: pre-wrap;\n",
       "    word-wrap: break-word;\n",
       "    word-break: break-all;\n",
       "    font-family: \"Source Code Pro\", \"Menlo\", monospace;;\n",
       "    font-size: 13px;\n",
       "    color: #555;\n",
       "    margin-left: 4px;\n",
       "    line-height: 19px;\n",
       "  }\n",
       "</style>"
      ]
     },
     "metadata": {
      "application/vnd.databricks.v1+output": {
       "arguments": {},
       "data": "",
       "errorSummary": "",
       "errorTraceType": null,
       "metadata": {},
       "type": "ipynbError"
      }
     },
     "output_type": "display_data"
    }
   ],
   "source": [
    "df['timestamp'] = df.versions.str.split(\"@\", expand = True)[1]\n",
    "print(df.to_string())\n"
   ]
  },
  {
   "cell_type": "code",
   "execution_count": 0,
   "metadata": {
    "application/vnd.databricks.v1+cell": {
     "cellMetadata": {
      "byteLimit": 2048000,
      "rowLimit": 10000
     },
     "inputWidgets": {},
     "nuid": "9d16132a-07d8-4447-878b-3f1bc334968d",
     "showTitle": false,
     "title": ""
    }
   },
   "outputs": [
    {
     "output_type": "stream",
     "name": "stdout",
     "output_type": "stream",
     "text": [
      "           versions     timestamp      converted_date\n0  xxx@230222133429  230222133429 2023-02-22 13:34:29\n1  xxx@230226141533  230226141533 2023-02-26 14:15:33\n2  xxx@230227214032  230227214032 2023-02-27 21:40:32\n3  xxx@230128210403  230128210403 2023-01-28 21:04:03\n4  xxx@230302084430  230302084430 2023-03-02 08:44:30\n5  xxx@230303193458  230303193458 2023-03-03 19:34:58\n6  xxx@230304193812  230304193812 2023-03-04 19:38:12\n7  xxx@220305193556  220305193556 2022-03-05 19:35:56\n8  xxx@230306194056  230306194056 2023-03-06 19:40:56\n9  xxx@220307200332  220307200332 2022-03-07 20:03:32\n"
     ]
    },
    {
     "output_type": "display_data",
     "data": {
      "text/html": [
       "<style scoped>\n",
       "  .ansiout {\n",
       "    display: block;\n",
       "    unicode-bidi: embed;\n",
       "    white-space: pre-wrap;\n",
       "    word-wrap: break-word;\n",
       "    word-break: break-all;\n",
       "    font-family: \"Source Code Pro\", \"Menlo\", monospace;;\n",
       "    font-size: 13px;\n",
       "    color: #555;\n",
       "    margin-left: 4px;\n",
       "    line-height: 19px;\n",
       "  }\n",
       "</style>"
      ]
     },
     "metadata": {
      "application/vnd.databricks.v1+output": {
       "arguments": {},
       "data": "",
       "errorSummary": "",
       "errorTraceType": null,
       "metadata": {},
       "type": "ipynbError"
      }
     },
     "output_type": "display_data"
    }
   ],
   "source": [
    "from datetime import datetime\n",
    "# input format\n",
    "format = '%y%m%d%H%M%S'\n",
    "\n",
    "\n",
    "# converting the timestamp string to datetime object\n",
    "df['converted_date'] = df['timestamp'].apply(lambda x: datetime.strptime(x, format))\n",
    "# printing the resultant datetime object\n",
    "print(df.to_string())\n"
   ]
  },
  {
   "cell_type": "code",
   "execution_count": 0,
   "metadata": {
    "application/vnd.databricks.v1+cell": {
     "cellMetadata": {
      "byteLimit": 2048000,
      "rowLimit": 10000
     },
     "inputWidgets": {},
     "nuid": "1df04d33-0575-4983-bb3e-71cb686a2baf",
     "showTitle": false,
     "title": ""
    }
   },
   "outputs": [
    {
     "output_type": "stream",
     "name": "stdout",
     "output_type": "stream",
     "text": [
      "           versions     timestamp      converted_date\n8  xxx@230306194056  230306194056 2023-03-06 19:40:56\n6  xxx@230304193812  230304193812 2023-03-04 19:38:12\n5  xxx@230303193458  230303193458 2023-03-03 19:34:58\n4  xxx@230302084430  230302084430 2023-03-02 08:44:30\n2  xxx@230227214032  230227214032 2023-02-27 21:40:32\n1  xxx@230226141533  230226141533 2023-02-26 14:15:33\n0  xxx@230222133429  230222133429 2023-02-22 13:34:29\n3  xxx@230128210403  230128210403 2023-01-28 21:04:03\n9  xxx@220307200332  220307200332 2022-03-07 20:03:32\n7  xxx@220305193556  220305193556 2022-03-05 19:35:56\n"
     ]
    },
    {
     "output_type": "display_data",
     "data": {
      "text/html": [
       "<style scoped>\n",
       "  .ansiout {\n",
       "    display: block;\n",
       "    unicode-bidi: embed;\n",
       "    white-space: pre-wrap;\n",
       "    word-wrap: break-word;\n",
       "    word-break: break-all;\n",
       "    font-family: \"Source Code Pro\", \"Menlo\", monospace;;\n",
       "    font-size: 13px;\n",
       "    color: #555;\n",
       "    margin-left: 4px;\n",
       "    line-height: 19px;\n",
       "  }\n",
       "</style>"
      ]
     },
     "metadata": {
      "application/vnd.databricks.v1+output": {
       "arguments": {},
       "data": "",
       "errorSummary": "",
       "errorTraceType": null,
       "metadata": {},
       "type": "ipynbError"
      }
     },
     "output_type": "display_data"
    }
   ],
   "source": [
    "sorted_df = df.sort_values(by='converted_date',ascending=False)\n",
    "print(sorted_df.to_string())\n"
   ]
  },
  {
   "cell_type": "code",
   "execution_count": 0,
   "metadata": {
    "application/vnd.databricks.v1+cell": {
     "cellMetadata": {
      "byteLimit": 2048000,
      "rowLimit": 10000
     },
     "inputWidgets": {},
     "nuid": "cd56325a-6ec1-40cf-966f-7be298236dbd",
     "showTitle": false,
     "title": ""
    }
   },
   "outputs": [
    {
     "output_type": "stream",
     "name": "stdout",
     "output_type": "stream",
     "text": [
      "                             versions     timestamp      converted_date\nconverted_date                                                         \n2023-02-22 13:34:29  xxx@230306194056  230306194056 2023-03-06 19:40:56\n2023-02-26 14:15:33  xxx@230304193812  230304193812 2023-03-04 19:38:12\n2023-02-27 21:40:32  xxx@230303193458  230303193458 2023-03-03 19:34:58\n2023-01-28 21:04:03  xxx@230302084430  230302084430 2023-03-02 08:44:30\n2023-03-02 08:44:30  xxx@230227214032  230227214032 2023-02-27 21:40:32\n2023-03-03 19:34:58  xxx@230226141533  230226141533 2023-02-26 14:15:33\n2023-03-04 19:38:12  xxx@230222133429  230222133429 2023-02-22 13:34:29\n2022-03-05 19:35:56  xxx@230128210403  230128210403 2023-01-28 21:04:03\n2023-03-06 19:40:56  xxx@220307200332  220307200332 2022-03-07 20:03:32\n2022-03-07 20:03:32  xxx@220305193556  220305193556 2022-03-05 19:35:56\n"
     ]
    },
    {
     "output_type": "display_data",
     "data": {
      "text/html": [
       "<style scoped>\n",
       "  .ansiout {\n",
       "    display: block;\n",
       "    unicode-bidi: embed;\n",
       "    white-space: pre-wrap;\n",
       "    word-wrap: break-word;\n",
       "    word-break: break-all;\n",
       "    font-family: \"Source Code Pro\", \"Menlo\", monospace;;\n",
       "    font-size: 13px;\n",
       "    color: #555;\n",
       "    margin-left: 4px;\n",
       "    line-height: 19px;\n",
       "  }\n",
       "</style>"
      ]
     },
     "metadata": {
      "application/vnd.databricks.v1+output": {
       "arguments": {},
       "data": "",
       "errorSummary": "",
       "errorTraceType": null,
       "metadata": {},
       "type": "ipynbError"
      }
     },
     "output_type": "display_data"
    }
   ],
   "source": [
    "index = pd.DatetimeIndex(df['converted_date'])\n",
    "sorted_indexed = sorted_df.set_index(index)\n",
    "print(sorted_indexed.to_string())\n"
   ]
  },
  {
   "cell_type": "code",
   "execution_count": 0,
   "metadata": {
    "application/vnd.databricks.v1+cell": {
     "cellMetadata": {
      "byteLimit": 2048000,
      "rowLimit": 10000
     },
     "inputWidgets": {},
     "nuid": "e6576ea9-0707-45df-9314-88395f3f87b0",
     "showTitle": false,
     "title": ""
    }
   },
   "outputs": [
    {
     "output_type": "stream",
     "name": "stdout",
     "output_type": "stream",
     "text": [
      "           versions     timestamp      converted_date  latest_of_month  latest_of_week  latest_of_year  latest_of_day\n8  xxx@230306194056  230306194056 2023-03-06 19:40:56             True            True            True           True\n6  xxx@230304193812  230304193812 2023-03-04 19:38:12            False            True           False           True\n5  xxx@230303193458  230303193458 2023-03-03 19:34:58            False           False           False           True\n4  xxx@230302084430  230302084430 2023-03-02 08:44:30            False           False           False           True\n2  xxx@230227214032  230227214032 2023-02-27 21:40:32             True           False           False           True\n1  xxx@230226141533  230226141533 2023-02-26 14:15:33            False            True           False           True\n0  xxx@230222133429  230222133429 2023-02-22 13:34:29            False           False           False           True\n3  xxx@230128210403  230128210403 2023-01-28 21:04:03             True            True           False           True\n9  xxx@220307200332  220307200332 2022-03-07 20:03:32             True            True            True           True\n7  xxx@220305193556  220305193556 2022-03-05 19:35:56            False            True           False           True\n"
     ]
    },
    {
     "output_type": "display_data",
     "data": {
      "text/html": [
       "<style scoped>\n",
       "  .ansiout {\n",
       "    display: block;\n",
       "    unicode-bidi: embed;\n",
       "    white-space: pre-wrap;\n",
       "    word-wrap: break-word;\n",
       "    word-break: break-all;\n",
       "    font-family: \"Source Code Pro\", \"Menlo\", monospace;;\n",
       "    font-size: 13px;\n",
       "    color: #555;\n",
       "    margin-left: 4px;\n",
       "    line-height: 19px;\n",
       "  }\n",
       "</style>"
      ]
     },
     "metadata": {
      "application/vnd.databricks.v1+output": {
       "arguments": {},
       "data": "",
       "errorSummary": "",
       "errorTraceType": null,
       "metadata": {},
       "type": "ipynbError"
      }
     },
     "output_type": "display_data"
    }
   ],
   "source": [
    "sorted_with_month = sorted_indexed\n",
    "sorted_with_month['latest_of_month'] = sorted_with_month.groupby(pd.Grouper(key='converted_date', freq='M'))['versions'].transform(lambda x: x == x.max())\n",
    "sorted_with_month['latest_of_week'] = sorted_with_month.groupby(pd.Grouper(key='converted_date', freq='W'))['versions'].transform(lambda x: x == x.max())\n",
    "sorted_with_month['latest_of_year'] = sorted_with_month.groupby(pd.Grouper(key='converted_date', freq='Y'))['versions'].transform(lambda x: x == x.max())\n",
    "sorted_with_month['latest_of_day'] = sorted_with_month.groupby(pd.Grouper(key='converted_date', freq='D'))['versions'].transform(lambda x: x == x.max())\n",
    "\n",
    "print(sorted_with_month.to_string())"
   ]
  },
  {
   "cell_type": "code",
   "execution_count": 0,
   "metadata": {
    "application/vnd.databricks.v1+cell": {
     "cellMetadata": {
      "byteLimit": 2048000,
      "rowLimit": 10000
     },
     "inputWidgets": {},
     "nuid": "bafa92d8-31be-4533-acc9-9bb82a3c0eb9",
     "showTitle": false,
     "title": ""
    }
   },
   "outputs": [
    {
     "output_type": "display_data",
     "data": {
      "text/html": [
       "<style scoped>\n",
       "  .ansiout {\n",
       "    display: block;\n",
       "    unicode-bidi: embed;\n",
       "    white-space: pre-wrap;\n",
       "    word-wrap: break-word;\n",
       "    word-break: break-all;\n",
       "    font-family: \"Source Code Pro\", \"Menlo\", monospace;;\n",
       "    font-size: 13px;\n",
       "    color: #555;\n",
       "    margin-left: 4px;\n",
       "    line-height: 19px;\n",
       "  }\n",
       "</style>"
      ]
     },
     "metadata": {
      "application/vnd.databricks.v1+output": {
       "arguments": {},
       "data": "",
       "errorSummary": "",
       "errorTraceType": null,
       "metadata": {},
       "type": "ipynbError"
      }
     },
     "output_type": "display_data"
    }
   ],
   "source": [
    "from datetime import datetime, timedelta\n",
    "def calculate_deletion_times(df):\n",
    "    latest_version_of_day = None\n",
    "    latest_version_of_week = None\n",
    "    latest_version_of_month = None\n",
    "    latest_version_of_year = None\n",
    "    \n",
    "    def calculate_deletion_time(row):\n",
    "        nonlocal latest_version_of_day, latest_version_of_week, latest_version_of_month, latest_version_of_year\n",
    "        # Calculate the retention time based on the latest versions\n",
    "        retention_time = timedelta(days=1)\n",
    "        if row['latest_of_day']:\n",
    "            retention_time = timedelta(days=7)\n",
    "        if row['latest_of_week']:\n",
    "            retention_time = timedelta(weeks=4)\n",
    "        if row['latest_of_month']:\n",
    "            retention_time = timedelta(days=365/12)\n",
    "        if row['latest_of_year']:\n",
    "            retention_time = timedelta(days=365*3)\n",
    "        \n",
    "        # Update the latest versions based on the current release date\n",
    "        if latest_version_of_day is None or row['converted_date'] > latest_version_of_day:\n",
    "            latest_version_of_day = row['converted_date']\n",
    "        if latest_version_of_week is None or row['converted_date'].weekday() == 6 or row['converted_date'] > latest_version_of_week + timedelta(days=6):\n",
    "            latest_version_of_week = row['converted_date']\n",
    "        if latest_version_of_month is None or row['converted_date'].month > latest_version_of_month.month:\n",
    "            latest_version_of_month = row['converted_date']\n",
    "        if latest_version_of_year is None or row['converted_date'].year > latest_version_of_year.year:\n",
    "            latest_version_of_year = row['converted_date']\n",
    "        \n",
    "        return row['converted_date'] + retention_time\n",
    "    \n",
    "    df['deletion_time'] = df.apply(calculate_deletion_time, axis=1)\n",
    "    return df"
   ]
  },
  {
   "cell_type": "code",
   "execution_count": 0,
   "metadata": {
    "application/vnd.databricks.v1+cell": {
     "cellMetadata": {
      "byteLimit": 2048000,
      "rowLimit": 10000
     },
     "inputWidgets": {},
     "nuid": "a913feb0-5890-45ca-8e1d-77a61eff1a7c",
     "showTitle": false,
     "title": ""
    }
   },
   "outputs": [
    {
     "output_type": "stream",
     "name": "stdout",
     "output_type": "stream",
     "text": [
      "           versions     timestamp      converted_date  latest_of_month  latest_of_week  latest_of_year  latest_of_day      retention_time       deletion_time\n8  xxx@230306194056  230306194056 2023-03-06 19:40:56             True            True            True           True 2026-03-05 19:40:56 2026-03-05 19:40:56\n6  xxx@230304193812  230304193812 2023-03-04 19:38:12            False            True           False           True 2023-04-01 19:38:12 2023-04-01 19:38:12\n5  xxx@230303193458  230303193458 2023-03-03 19:34:58            False           False           False           True 2023-03-10 19:34:58 2023-03-10 19:34:58\n4  xxx@230302084430  230302084430 2023-03-02 08:44:30            False           False           False           True 2023-03-09 08:44:30 2023-03-09 08:44:30\n2  xxx@230227214032  230227214032 2023-02-27 21:40:32             True           False           False           True 2023-03-30 07:40:32 2023-03-30 07:40:32\n1  xxx@230226141533  230226141533 2023-02-26 14:15:33            False            True           False           True 2023-03-26 14:15:33 2023-03-26 14:15:33\n0  xxx@230222133429  230222133429 2023-02-22 13:34:29            False           False           False           True 2023-03-01 13:34:29 2023-03-01 13:34:29\n3  xxx@230128210403  230128210403 2023-01-28 21:04:03             True            True           False           True 2023-02-28 07:04:03 2023-02-28 07:04:03\n9  xxx@220307200332  220307200332 2022-03-07 20:03:32             True            True            True           True 2025-03-06 20:03:32 2025-03-06 20:03:32\n7  xxx@220305193556  220305193556 2022-03-05 19:35:56            False            True           False           True 2022-04-02 19:35:56 2022-04-02 19:35:56\n"
     ]
    },
    {
     "output_type": "display_data",
     "data": {
      "text/html": [
       "<style scoped>\n",
       "  .ansiout {\n",
       "    display: block;\n",
       "    unicode-bidi: embed;\n",
       "    white-space: pre-wrap;\n",
       "    word-wrap: break-word;\n",
       "    word-break: break-all;\n",
       "    font-family: \"Source Code Pro\", \"Menlo\", monospace;;\n",
       "    font-size: 13px;\n",
       "    color: #555;\n",
       "    margin-left: 4px;\n",
       "    line-height: 19px;\n",
       "  }\n",
       "</style>"
      ]
     },
     "metadata": {
      "application/vnd.databricks.v1+output": {
       "arguments": {},
       "data": "",
       "errorSummary": "",
       "errorTraceType": null,
       "metadata": {},
       "type": "ipynbError"
      }
     },
     "output_type": "display_data"
    }
   ],
   "source": [
    "df_with_retention = calculate_deletion_times(sorted_with_month)\n",
    "print(df_with_retention.to_string())"
   ]
  }
 ],
 "metadata": {
  "application/vnd.databricks.v1+notebook": {
   "dashboards": [],
   "language": "python",
   "notebookMetadata": {
    "pythonIndentUnit": 4
   },
   "notebookName": "Untitled Notebook 2023-04-26 20:41:39",
   "notebookOrigID": 3828481451743938,
   "widgets": {}
  }
 },
 "nbformat": 4,
 "nbformat_minor": 0
}
